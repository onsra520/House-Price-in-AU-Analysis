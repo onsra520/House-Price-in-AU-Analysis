{
 "cells": [
  {
   "cell_type": "code",
   "execution_count": 2,
   "metadata": {},
   "outputs": [],
   "source": [
    "import pandas as pd"
   ]
  },
  {
   "cell_type": "code",
   "execution_count": 3,
   "metadata": {},
   "outputs": [],
   "source": [
    "file_path = r'C:\\Users\\nhl08\\OneDrive\\Documents\\AI02\\Udemy\\SE193246_Nguyễn Hiểu Linh_Lab03_Project3\\aus_real_estate_cleaned.csv'\n",
    "df = pd.read_csv(file_path)"
   ]
  },
  {
   "cell_type": "code",
   "execution_count": 5,
   "metadata": {},
   "outputs": [
    {
     "name": "stdout",
     "output_type": "stream",
     "text": [
      "Thống kê mô tả cho giá bất động sản:\n",
      "count    5.000000e+03\n",
      "mean     1.049955e+06\n",
      "std      5.483403e+05\n",
      "min      1.000280e+05\n",
      "25%      5.834595e+05\n",
      "50%      1.040834e+06\n",
      "75%      1.528158e+06\n",
      "max      1.999701e+06\n",
      "Name: Price, dtype: float64\n"
     ]
    }
   ],
   "source": [
    "stats = df['Price'].describe()\n",
    "print(\"Thống kê mô tả cho giá bất động sản:\")\n",
    "print(stats)"
   ]
  },
  {
   "cell_type": "code",
   "execution_count": 6,
   "metadata": {},
   "outputs": [],
   "source": [
    "def number_of_houses_per_location(data):\n",
    "    return data['State'].value_counts()"
   ]
  },
  {
   "cell_type": "code",
   "execution_count": 8,
   "metadata": {},
   "outputs": [],
   "source": [
    "def frequency_of_prices(data):\n",
    "    return data['Price'].value_counts()"
   ]
  },
  {
   "cell_type": "code",
   "execution_count": 9,
   "metadata": {},
   "outputs": [
    {
     "name": "stdout",
     "output_type": "stream",
     "text": [
      "State\n",
      "NSW    1025\n",
      "VIC    1015\n",
      "QLD    1009\n",
      "WA      991\n",
      "SA      960\n",
      "Name: count, dtype: int64\n",
      "Price\n",
      "911472     2\n",
      "317606     2\n",
      "1372610    2\n",
      "456083     2\n",
      "146612     2\n",
      "          ..\n",
      "521397     1\n",
      "197434     1\n",
      "681176     1\n",
      "872797     1\n",
      "1470344    1\n",
      "Name: count, Length: 4991, dtype: int64\n",
      "Correlation between Price and Property Area: 0.0024886674931558226\n",
      "Correlation between Price and Number of Bedrooms: -0.007972686005123629\n",
      "Price Dispersion (Standard Deviation): 548340.3132373272\n",
      "Price Variance: 300677099121.21\n",
      "Price Distribution Across Quantiles:\n",
      "0.25     583459.50\n",
      "0.50    1040834.00\n",
      "0.75    1528157.75\n",
      "1.00    1999701.00\n",
      "Name: Price, dtype: float64\n"
     ]
    }
   ],
   "source": [
    "house_per_location = number_of_houses_per_location(df)\n",
    "print(house_per_location)\n",
    "price_fr = frequency_of_prices(df)\n",
    "print(price_fr)\n",
    "correlation_price_area = df['Price'].corr(df['SqFt'])\n",
    "print(f'Correlation between Price and Property Area: {correlation_price_area}')\n",
    "correlation_price_beds = df['Price'].corr(df['Bedrooms'])\n",
    "print(f'Correlation between Price and Number of Bedrooms: {correlation_price_beds}')\n",
    "price_dispersion = df['Price'].std()\n",
    "print(f'Price Dispersion (Standard Deviation): {price_dispersion}')\n",
    "price_variance = df['Price'].var()\n",
    "print(f'Price Variance: {price_variance}')\n",
    "quantiles = df['Price'].quantile([0.25, 0.5, 0.75, 1.0])\n",
    "print('Price Distribution Across Quantiles:')\n",
    "print(quantiles)"
   ]
  }
 ],
 "metadata": {
  "kernelspec": {
   "display_name": ".mvenv",
   "language": "python",
   "name": "python3"
  },
  "language_info": {
   "codemirror_mode": {
    "name": "ipython",
    "version": 3
   },
   "file_extension": ".py",
   "mimetype": "text/x-python",
   "name": "python",
   "nbconvert_exporter": "python",
   "pygments_lexer": "ipython3",
   "version": "3.12.4"
  }
 },
 "nbformat": 4,
 "nbformat_minor": 2
}
