{
 "cells": [
  {
   "cell_type": "code",
   "execution_count": 22,
   "metadata": {},
   "outputs": [],
   "source": [
    "import os\n",
    "import pandas as pd"
   ]
  },
  {
   "cell_type": "code",
   "execution_count": 23,
   "metadata": {},
   "outputs": [],
   "source": [
    "Data_Path = os.path.join(\"AU Housing Data\", \"AU Real Estate Data.csv\")\n",
    "House_List = pd.read_csv(Data_Path)"
   ]
  },
  {
   "cell_type": "code",
   "execution_count": 24,
   "metadata": {},
   "outputs": [
    {
     "data": {
      "text/html": [
       "<div>\n",
       "<style scoped>\n",
       "    .dataframe tbody tr th:only-of-type {\n",
       "        vertical-align: middle;\n",
       "    }\n",
       "\n",
       "    .dataframe tbody tr th {\n",
       "        vertical-align: top;\n",
       "    }\n",
       "\n",
       "    .dataframe thead th {\n",
       "        text-align: right;\n",
       "    }\n",
       "</style>\n",
       "<table border=\"1\" class=\"dataframe\">\n",
       "  <thead>\n",
       "    <tr style=\"text-align: right;\">\n",
       "      <th></th>\n",
       "      <th>Price</th>\n",
       "      <th>Bedrooms</th>\n",
       "      <th>Bathrooms</th>\n",
       "      <th>SqFt</th>\n",
       "      <th>Year Built</th>\n",
       "      <th>Garage</th>\n",
       "      <th>Lot Area</th>\n",
       "    </tr>\n",
       "  </thead>\n",
       "  <tbody>\n",
       "    <tr>\n",
       "      <th>count</th>\n",
       "      <td>5.000000e+03</td>\n",
       "      <td>5000.000000</td>\n",
       "      <td>5000.000000</td>\n",
       "      <td>5000.000000</td>\n",
       "      <td>5000.000000</td>\n",
       "      <td>5000.000000</td>\n",
       "      <td>5000.000000</td>\n",
       "    </tr>\n",
       "    <tr>\n",
       "      <th>mean</th>\n",
       "      <td>1.049955e+06</td>\n",
       "      <td>2.988200</td>\n",
       "      <td>1.972000</td>\n",
       "      <td>2404.410000</td>\n",
       "      <td>1985.831400</td>\n",
       "      <td>0.491400</td>\n",
       "      <td>5523.399800</td>\n",
       "    </tr>\n",
       "    <tr>\n",
       "      <th>std</th>\n",
       "      <td>5.483403e+05</td>\n",
       "      <td>1.415366</td>\n",
       "      <td>0.817404</td>\n",
       "      <td>923.948749</td>\n",
       "      <td>21.173687</td>\n",
       "      <td>0.499976</td>\n",
       "      <td>2605.277027</td>\n",
       "    </tr>\n",
       "    <tr>\n",
       "      <th>min</th>\n",
       "      <td>1.000280e+05</td>\n",
       "      <td>1.000000</td>\n",
       "      <td>1.000000</td>\n",
       "      <td>800.000000</td>\n",
       "      <td>1950.000000</td>\n",
       "      <td>0.000000</td>\n",
       "      <td>1001.000000</td>\n",
       "    </tr>\n",
       "    <tr>\n",
       "      <th>25%</th>\n",
       "      <td>5.834595e+05</td>\n",
       "      <td>2.000000</td>\n",
       "      <td>1.000000</td>\n",
       "      <td>1598.750000</td>\n",
       "      <td>1967.000000</td>\n",
       "      <td>0.000000</td>\n",
       "      <td>3250.750000</td>\n",
       "    </tr>\n",
       "    <tr>\n",
       "      <th>50%</th>\n",
       "      <td>1.040834e+06</td>\n",
       "      <td>3.000000</td>\n",
       "      <td>2.000000</td>\n",
       "      <td>2418.000000</td>\n",
       "      <td>1985.000000</td>\n",
       "      <td>0.000000</td>\n",
       "      <td>5514.500000</td>\n",
       "    </tr>\n",
       "    <tr>\n",
       "      <th>75%</th>\n",
       "      <td>1.528158e+06</td>\n",
       "      <td>4.000000</td>\n",
       "      <td>3.000000</td>\n",
       "      <td>3191.250000</td>\n",
       "      <td>2004.000000</td>\n",
       "      <td>1.000000</td>\n",
       "      <td>7804.000000</td>\n",
       "    </tr>\n",
       "    <tr>\n",
       "      <th>max</th>\n",
       "      <td>1.999701e+06</td>\n",
       "      <td>5.000000</td>\n",
       "      <td>3.000000</td>\n",
       "      <td>3998.000000</td>\n",
       "      <td>2022.000000</td>\n",
       "      <td>1.000000</td>\n",
       "      <td>9998.000000</td>\n",
       "    </tr>\n",
       "  </tbody>\n",
       "</table>\n",
       "</div>"
      ],
      "text/plain": [
       "              Price     Bedrooms    Bathrooms         SqFt   Year Built  \\\n",
       "count  5.000000e+03  5000.000000  5000.000000  5000.000000  5000.000000   \n",
       "mean   1.049955e+06     2.988200     1.972000  2404.410000  1985.831400   \n",
       "std    5.483403e+05     1.415366     0.817404   923.948749    21.173687   \n",
       "min    1.000280e+05     1.000000     1.000000   800.000000  1950.000000   \n",
       "25%    5.834595e+05     2.000000     1.000000  1598.750000  1967.000000   \n",
       "50%    1.040834e+06     3.000000     2.000000  2418.000000  1985.000000   \n",
       "75%    1.528158e+06     4.000000     3.000000  3191.250000  2004.000000   \n",
       "max    1.999701e+06     5.000000     3.000000  3998.000000  2022.000000   \n",
       "\n",
       "            Garage     Lot Area  \n",
       "count  5000.000000  5000.000000  \n",
       "mean      0.491400  5523.399800  \n",
       "std       0.499976  2605.277027  \n",
       "min       0.000000  1001.000000  \n",
       "25%       0.000000  3250.750000  \n",
       "50%       0.000000  5514.500000  \n",
       "75%       1.000000  7804.000000  \n",
       "max       1.000000  9998.000000  "
      ]
     },
     "execution_count": 24,
     "metadata": {},
     "output_type": "execute_result"
    }
   ],
   "source": [
    "Stats = House_List.describe()\n",
    "Stats"
   ]
  },
  {
   "cell_type": "code",
   "execution_count": 25,
   "metadata": {},
   "outputs": [],
   "source": [
    "def Number_Of_Houses_Per_Location(Data):\n",
    "    return pd.DataFrame(Data['State'].value_counts().reset_index())\n",
    "\n",
    "def Frequency_Of_Prices(Data):\n",
    "    return pd.DataFrame(Data['Price'].value_counts().reset_index())"
   ]
  },
  {
   "cell_type": "code",
   "execution_count": 26,
   "metadata": {},
   "outputs": [],
   "source": [
    "House_Per_Location = Number_Of_Houses_Per_Location(House_List)\n",
    "Price_Fr = Frequency_Of_Prices(House_List)"
   ]
  },
  {
   "cell_type": "code",
   "execution_count": 33,
   "metadata": {},
   "outputs": [
    {
     "name": "stdout",
     "output_type": "stream",
     "text": [
      "Correlation between Price and Property Area: 0.0024886674931558273\n",
      "\n",
      "Correlation between Price and Number of Bedrooms: -0.00797268600512364\n",
      "\n",
      "Price Dispersion (Standard Deviation): 548340.3132373276\n",
      "\n",
      "Price Variance: 300677099121.2106\n",
      "\n",
      "Price Distribution Across Quantiles:\n",
      "0.25     583459.50\n",
      "0.50    1040834.00\n",
      "0.75    1528157.75\n",
      "1.00    1999701.00\n",
      "Name: Price, dtype: float64\n"
     ]
    }
   ],
   "source": [
    "correlation_price_area = House_List['Price'].corr(House_List['SqFt'])\n",
    "print(f'Correlation between Price and Property Area: {correlation_price_area}' + '\\n')\n",
    "\n",
    "correlation_price_beds = House_List['Price'].corr(House_List['Bedrooms'])\n",
    "print(f'Correlation between Price and Number of Bedrooms: {correlation_price_beds}' + '\\n')\n",
    "\n",
    "price_dispersion = House_List['Price'].std()\n",
    "print(f'Price Dispersion (Standard Deviation): {price_dispersion}' + '\\n')\n",
    "\n",
    "price_variance = House_List['Price'].var()\n",
    "print(f'Price Variance: {price_variance}' + '\\n')\n",
    "\n",
    "quantiles = House_List['Price'].quantile([0.25, 0.5, 0.75, 1.0])\n",
    "print('Price Distribution Across Quantiles:')\n",
    "print(quantiles)"
   ]
  },
  {
   "cell_type": "code",
   "execution_count": null,
   "metadata": {},
   "outputs": [],
   "source": []
  }
 ],
 "metadata": {
  "kernelspec": {
   "display_name": "python3",
   "language": "python",
   "name": "python3"
  },
  "language_info": {
   "codemirror_mode": {
    "name": "ipython",
    "version": 3
   },
   "file_extension": ".py",
   "mimetype": "text/x-python",
   "name": "python",
   "nbconvert_exporter": "python",
   "pygments_lexer": "ipython3",
   "version": "3.10.14"
  }
 },
 "nbformat": 4,
 "nbformat_minor": 2
}
